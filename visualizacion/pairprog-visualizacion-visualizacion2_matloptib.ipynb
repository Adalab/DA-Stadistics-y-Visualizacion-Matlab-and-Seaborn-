{
 "cells": [
  {
   "cell_type": "markdown",
   "metadata": {},
   "source": [
    "# Ejercicios Pair Programming - Modulo 2 - Sprint 1 \n",
    "## Lección 6 - Visualización II: Matplotlib\n",
    "### Judith Mellidez y Sonia Ruiz"
   ]
  },
  {
   "cell_type": "markdown",
   "metadata": {},
   "source": [
    "\n",
    "Sigamos con más visualizaciones. En este caso trabajaremos con el csv que generamos en el ejercicio de pair programming de Pandas V, ese en el que habíamos unido distintos csv en uno.\n",
    "\n",
    "\n",
    "El objetivo de hoy, mejorar algunas de las gráficas que hicimos en el ejericio de pair programming de ayer y crear algunas nuevas aprovechando que tenemos algunas columnas nuevas en dataframe\n",
    "Las preguntas que tendréis que contestar son:\n"
   ]
  },
  {
   "attachments": {},
   "cell_type": "markdown",
   "metadata": {},
   "source": [
    "1. Ayer creamos un par de gráficas para USA y España, donde visualizamos el número de ataques en cada país a lo largo de los años y el tipo de los ataques. Hoy tendréis que hacer dos gráficas con subplots:"
   ]
  },
  {
   "cell_type": "code",
   "execution_count": 1,
   "metadata": {},
   "outputs": [],
   "source": [
    "import matplotlib.pyplot as plt\n",
    "import pandas as pd\n",
    "import numpy as np\n",
    "import seaborn as sns"
   ]
  },
  {
   "cell_type": "code",
   "execution_count": 2,
   "metadata": {},
   "outputs": [
    {
     "data": {
      "text/html": [
       "<div>\n",
       "<style scoped>\n",
       "    .dataframe tbody tr th:only-of-type {\n",
       "        vertical-align: middle;\n",
       "    }\n",
       "\n",
       "    .dataframe tbody tr th {\n",
       "        vertical-align: top;\n",
       "    }\n",
       "\n",
       "    .dataframe thead th {\n",
       "        text-align: right;\n",
       "    }\n",
       "</style>\n",
       "<table border=\"1\" class=\"dataframe\">\n",
       "  <thead>\n",
       "    <tr style=\"text-align: right;\">\n",
       "      <th></th>\n",
       "      <th>Unnamed: 0</th>\n",
       "      <th>case_number</th>\n",
       "      <th>unnamed:_0</th>\n",
       "      <th>year</th>\n",
       "      <th>type</th>\n",
       "      <th>country</th>\n",
       "      <th>area</th>\n",
       "      <th>location</th>\n",
       "      <th>activity</th>\n",
       "      <th>name</th>\n",
       "      <th>sex_</th>\n",
       "      <th>age</th>\n",
       "      <th>time</th>\n",
       "      <th>species_</th>\n",
       "      <th>href</th>\n",
       "      <th>siglo</th>\n",
       "      <th>fatal_(y/n)</th>\n",
       "      <th>injury</th>\n",
       "      <th>date</th>\n",
       "    </tr>\n",
       "  </thead>\n",
       "  <tbody>\n",
       "    <tr>\n",
       "      <th>0</th>\n",
       "      <td>0</td>\n",
       "      <td>2018.06.25</td>\n",
       "      <td>0.0</td>\n",
       "      <td>2018.0</td>\n",
       "      <td>Boating</td>\n",
       "      <td>USA</td>\n",
       "      <td>California</td>\n",
       "      <td>Oceanside, San Diego County</td>\n",
       "      <td>Paddling</td>\n",
       "      <td>Julie Wolfe</td>\n",
       "      <td>F</td>\n",
       "      <td>57</td>\n",
       "      <td>18h00</td>\n",
       "      <td>White shark</td>\n",
       "      <td>http://sharkattackfile.net/spreadsheets/pdf_di...</td>\n",
       "      <td>siglo-XXI</td>\n",
       "      <td>N</td>\n",
       "      <td>No injury to occupant, outrigger canoe and pad...</td>\n",
       "      <td>25-Jun-2018</td>\n",
       "    </tr>\n",
       "    <tr>\n",
       "      <th>1</th>\n",
       "      <td>1</td>\n",
       "      <td>2018.06.03.a</td>\n",
       "      <td>6.0</td>\n",
       "      <td>2018.0</td>\n",
       "      <td>Unprovoked</td>\n",
       "      <td>BRAZIL</td>\n",
       "      <td>Pernambuco</td>\n",
       "      <td>Piedade Beach, Recife</td>\n",
       "      <td>Swimming</td>\n",
       "      <td>Jose Ernesto da Silva</td>\n",
       "      <td>M</td>\n",
       "      <td>18</td>\n",
       "      <td>Late afternoon</td>\n",
       "      <td>Tiger shark</td>\n",
       "      <td>http://sharkattackfile.net/spreadsheets/pdf_di...</td>\n",
       "      <td>siglo-XXI</td>\n",
       "      <td>Y</td>\n",
       "      <td>FATAL</td>\n",
       "      <td>03-Jun-2018</td>\n",
       "    </tr>\n",
       "    <tr>\n",
       "      <th>2</th>\n",
       "      <td>2</td>\n",
       "      <td>2018.05.26.b</td>\n",
       "      <td>8.0</td>\n",
       "      <td>2018.0</td>\n",
       "      <td>Unprovoked</td>\n",
       "      <td>USA</td>\n",
       "      <td>Florida</td>\n",
       "      <td>Cocoa Beach, Brevard  County</td>\n",
       "      <td>Walking</td>\n",
       "      <td>Cody High</td>\n",
       "      <td>M</td>\n",
       "      <td>15</td>\n",
       "      <td>17h00</td>\n",
       "      <td>Bull shark, 6'</td>\n",
       "      <td>http://sharkattackfile.net/spreadsheets/pdf_di...</td>\n",
       "      <td>siglo-XXI</td>\n",
       "      <td>N</td>\n",
       "      <td>Lower left leg bitten</td>\n",
       "      <td>26-May-2018</td>\n",
       "    </tr>\n",
       "    <tr>\n",
       "      <th>3</th>\n",
       "      <td>3</td>\n",
       "      <td>2018.05.24</td>\n",
       "      <td>10.0</td>\n",
       "      <td>2018.0</td>\n",
       "      <td>Provoked</td>\n",
       "      <td>AUSTRALIA</td>\n",
       "      <td>Queensland</td>\n",
       "      <td>Cairns Aquarium</td>\n",
       "      <td>Feeding sharks</td>\n",
       "      <td>male</td>\n",
       "      <td>M</td>\n",
       "      <td>32</td>\n",
       "      <td>Morning</td>\n",
       "      <td>Grey reef shark</td>\n",
       "      <td>http://sharkattackfile.net/spreadsheets/pdf_di...</td>\n",
       "      <td>siglo-XXI</td>\n",
       "      <td>N</td>\n",
       "      <td>Minor bite to hand by captive shark. PROVOKED ...</td>\n",
       "      <td>24-May-2018</td>\n",
       "    </tr>\n",
       "    <tr>\n",
       "      <th>4</th>\n",
       "      <td>4</td>\n",
       "      <td>2018.05.13.a</td>\n",
       "      <td>13.0</td>\n",
       "      <td>2018.0</td>\n",
       "      <td>Invalid</td>\n",
       "      <td>ENGLAND</td>\n",
       "      <td>Cornwall</td>\n",
       "      <td>Off Land's End</td>\n",
       "      <td>Fishing</td>\n",
       "      <td>Max Berryman</td>\n",
       "      <td>M</td>\n",
       "      <td>21</td>\n",
       "      <td>08h15</td>\n",
       "      <td>Invalid incident</td>\n",
       "      <td>http://sharkattackfile.net/spreadsheets/pdf_di...</td>\n",
       "      <td>siglo-XXI</td>\n",
       "      <td>N</td>\n",
       "      <td>Injured by teeth of a dead porbeagle shark he ...</td>\n",
       "      <td>13-May-2018</td>\n",
       "    </tr>\n",
       "  </tbody>\n",
       "</table>\n",
       "</div>"
      ],
      "text/plain": [
       "   Unnamed: 0   case_number  unnamed:_0    year        type    country  \\\n",
       "0           0    2018.06.25         0.0  2018.0     Boating        USA   \n",
       "1           1  2018.06.03.a         6.0  2018.0  Unprovoked     BRAZIL   \n",
       "2           2  2018.05.26.b         8.0  2018.0  Unprovoked        USA   \n",
       "3           3    2018.05.24        10.0  2018.0    Provoked  AUSTRALIA   \n",
       "4           4  2018.05.13.a        13.0  2018.0     Invalid    ENGLAND   \n",
       "\n",
       "         area                      location        activity  \\\n",
       "0  California   Oceanside, San Diego County        Paddling   \n",
       "1  Pernambuco         Piedade Beach, Recife        Swimming   \n",
       "2     Florida  Cocoa Beach, Brevard  County         Walking   \n",
       "3  Queensland               Cairns Aquarium  Feeding sharks   \n",
       "4    Cornwall                Off Land's End         Fishing   \n",
       "\n",
       "                     name sex_ age            time          species_  \\\n",
       "0             Julie Wolfe    F  57           18h00       White shark   \n",
       "1  Jose Ernesto da Silva     M  18  Late afternoon       Tiger shark   \n",
       "2               Cody High    M  15           17h00    Bull shark, 6'   \n",
       "3                    male    M  32         Morning   Grey reef shark   \n",
       "4            Max Berryman    M  21           08h15  Invalid incident   \n",
       "\n",
       "                                                href      siglo fatal_(y/n)  \\\n",
       "0  http://sharkattackfile.net/spreadsheets/pdf_di...  siglo-XXI           N   \n",
       "1  http://sharkattackfile.net/spreadsheets/pdf_di...  siglo-XXI           Y   \n",
       "2  http://sharkattackfile.net/spreadsheets/pdf_di...  siglo-XXI           N   \n",
       "3  http://sharkattackfile.net/spreadsheets/pdf_di...  siglo-XXI           N   \n",
       "4  http://sharkattackfile.net/spreadsheets/pdf_di...  siglo-XXI           N   \n",
       "\n",
       "                                              injury         date  \n",
       "0  No injury to occupant, outrigger canoe and pad...  25-Jun-2018  \n",
       "1                                              FATAL  03-Jun-2018  \n",
       "2                              Lower left leg bitten  26-May-2018  \n",
       "3  Minor bite to hand by captive shark. PROVOKED ...  24-May-2018  \n",
       "4  Injured by teeth of a dead porbeagle shark he ...  13-May-2018  "
      ]
     },
     "execution_count": 2,
     "metadata": {},
     "output_type": "execute_result"
    }
   ],
   "source": [
    "df=pd.read_csv('../pandas/Data_lecc5_pandas/attacks_lec5.csv')\n",
    "df.head()"
   ]
  },
  {
   "cell_type": "code",
   "execution_count": 40,
   "metadata": {},
   "outputs": [],
   "source": [
    "USA_attacks= df[df['country'] == 'USA'] ['type'].value_counts()\n",
    "SPAIN_attacks= df[df['country'] == 'SPAIN'] ['type'].value_counts()"
   ]
  },
  {
   "cell_type": "code",
   "execution_count": 38,
   "metadata": {},
   "outputs": [
    {
     "data": {
      "text/plain": [
       "Unprovoked      632\n",
       "Provoked         49\n",
       "Invalid          48\n",
       "Boating          11\n",
       "Sea Disaster      1\n",
       "Name: type, dtype: int64"
      ]
     },
     "execution_count": 38,
     "metadata": {},
     "output_type": "execute_result"
    }
   ],
   "source": [
    "USA_attacks"
   ]
  },
  {
   "cell_type": "code",
   "execution_count": 7,
   "metadata": {},
   "outputs": [
    {
     "data": {
      "text/plain": [
       "Unprovoked    4\n",
       "Invalid       2\n",
       "Provoked      1\n",
       "Name: type, dtype: int64"
      ]
     },
     "execution_count": 7,
     "metadata": {},
     "output_type": "execute_result"
    }
   ],
   "source": [
    "SPAIN_attacks"
   ]
  },
  {
   "attachments": {},
   "cell_type": "markdown",
   "metadata": {},
   "source": [
    "En la primera debéis mostrar los tipos ataques en USA y España, cada subplot corresponderá a un país. Debéis:"
   ]
  },
  {
   "cell_type": "markdown",
   "metadata": {},
   "source": [
    "-    Poner nombre a los ejes de cada uno de los subplots"
   ]
  },
  {
   "cell_type": "markdown",
   "metadata": {},
   "source": [
    " - Poner un títulos a cada uno de los subplots"
   ]
  },
  {
   "cell_type": "markdown",
   "metadata": {},
   "source": [
    " - Poner el color de las líneas en negro."
   ]
  },
  {
   "cell_type": "markdown",
   "metadata": {},
   "source": [
    "- Establecer el tamaño de la gráfica a 15 x 5"
   ]
  },
  {
   "cell_type": "markdown",
   "metadata": {},
   "source": [
    "- Ponerle marcadores a las gráficas"
   ]
  },
  {
   "cell_type": "markdown",
   "metadata": {},
   "source": [
    "- No incluir leyenda "
   ]
  },
  {
   "cell_type": "code",
   "execution_count": 83,
   "metadata": {},
   "outputs": [
    {
     "data": {
      "image/png": "[encoded data removed]",
      "text/plain": [
       "<Figure size 1080x360 with 2 Axes>"
      ]
     },
     "metadata": {
      "needs_background": "light"
     },
     "output_type": "display_data"
    }
   ],
   "source": [
    "fig, ax= plt.subplots (1,2, figsize=(15,5)) # Establecer el tamaño de la gráfica a 15 x 5\n",
    "\n",
    "ax[0].plot(USA_attacks.index, USA_attacks.values, color='black', marker='*') #Poner el color de las líneas en negro y poner marcadores.\n",
    "ax[0].set_title(label='Ataques tiburones en USA') #Poner un títulos a cada uno de los subplots\n",
    "ax[0].set_xlabel('Tipos de ataques') # Nombrar los ejes.\n",
    "ax[0].set_ylabel('Nº ataques en USA')# Nombrar los ejes.\n",
    "\n",
    "ax[1].plot(SPAIN_attacks.index,SPAIN_attacks.values, color='black', marker='*')  #Poner el color de las líneas en negro y poner marcadores.\n",
    "ax[1].set_title(label='Ataques tiburones en SPAIN')#Poner un títulos a cada uno de los subplots\n",
    "ax[1].set_xlabel('Tipos de ataques')# Nombrar los ejes.\n",
    "ax[1].set_ylabel('Nº ataques en SPAIN')# Nombrar los ejes.\n",
    "\n",
    "plt.savefig('visu2_ataques_USA_SPAIN.jpg')\n",
    "plt.show()"
   ]
  },
  {
   "cell_type": "markdown",
   "metadata": {},
   "source": [
    "En la segunda debéis mostrar los ataques por año para cada uno de los países."
   ]
  },
  {
   "cell_type": "markdown",
   "metadata": {},
   "source": [
    "- De nuevo tendréis que ponerle nombre a los ejes y título a cada gráfica.   "
   ]
  },
  {
   "cell_type": "markdown",
   "metadata": {},
   "source": [
    "- En este caso el subplot deberá tener dos filas y una columna"
   ]
  },
  {
   "cell_type": "markdown",
   "metadata": {},
   "source": [
    " - No incluir leyenda"
   ]
  },
  {
   "cell_type": "markdown",
   "metadata": {},
   "source": [
    " - Cambiar el color de las barras"
   ]
  },
  {
   "cell_type": "code",
   "execution_count": 64,
   "metadata": {},
   "outputs": [],
   "source": [
    "USA_attacks2= df[df['country'] == 'USA'] ['year'].value_counts()\n",
    "SPAIN_attacks2= df[df['country'] == 'SPAIN'] ['year'].value_counts()"
   ]
  },
  {
   "cell_type": "code",
   "execution_count": 42,
   "metadata": {},
   "outputs": [
    {
     "data": {
      "text/plain": [
       "2015.0    39\n",
       "2002.0    37\n",
       "2007.0    35\n",
       "2012.0    31\n",
       "2003.0    31\n",
       "          ..\n",
       "1948.0     1\n",
       "1950.0     1\n",
       "1952.0     1\n",
       "1953.0     1\n",
       "1947.0     1\n",
       "Name: year, Length: 76, dtype: int64"
      ]
     },
     "execution_count": 42,
     "metadata": {},
     "output_type": "execute_result"
    }
   ],
   "source": [
    "USA_attacks2"
   ]
  },
  {
   "cell_type": "code",
   "execution_count": 57,
   "metadata": {},
   "outputs": [
    {
     "data": {
      "text/plain": [
       "2017.0    1\n",
       "2016.0    1\n",
       "2015.0    1\n",
       "2010.0    1\n",
       "1993.0    1\n",
       "1764.0    1\n",
       "0.0       1\n",
       "Name: year, dtype: int64"
      ]
     },
     "execution_count": 57,
     "metadata": {},
     "output_type": "execute_result"
    }
   ],
   "source": [
    "SPAIN_attacks2"
   ]
  },
  {
   "cell_type": "code",
   "execution_count": 85,
   "metadata": {},
   "outputs": [
    {
     "data": {
      "image/png": "[encoded data removed]",
      "text/plain": [
       "<Figure size 1440x720 with 2 Axes>"
      ]
     },
     "metadata": {
      "needs_background": "light"
     },
     "output_type": "display_data"
    }
   ],
   "source": [
    "fig2, ax= plt.subplots (2,1, figsize=(20,10)) # Establecer el tamaño de la gráfica a 15 x 5\n",
    "\n",
    "x= USA_attacks2.index\n",
    "y= USA_attacks2.values\n",
    "\n",
    "x1= SPAIN_attacks2.index\n",
    "y1= SPAIN_attacks2.values\n",
    "\n",
    "ax[0].bar(x,y, color='purple') #Poner el color de las líneas en negro y poner marcadores.\n",
    "ax[0].set_title(label='Ataques tiburones en USA') #Poner un títulos a cada uno de los subplots\n",
    "ax[0].set_xlabel('Ataques por año') # Nombrar los ejes.\n",
    "ax[0].set_ylabel('Nº ataques en USA')# Nombrar los ejes.\n",
    "ax[0].grid()\n",
    "ax[0].set_xlim(1700,2020)\n",
    "\n",
    "ax[1].bar(x1,y1, color='purple')  #Poner el color de las líneas en negro y poner marcadores.\n",
    "ax[1].set_title(label='Ataques tiburones en SPAIN')#Poner un títulos a cada uno de los subplots\n",
    "ax[1].set_xlabel('Ataques por año')# Nombrar los ejes.\n",
    "ax[1].set_ylabel('Nº ataques en SPAIN')# Nombrar los ejes.\n",
    "ax[1].set_xlim(1700,2020)\n",
    "\n",
    "\n",
    "ax[1].grid()\n",
    "\n",
    "plt.savefig('visu2_graf_ataques_USA_SPAIN_columna.jpg')\n",
    "plt.show()"
   ]
  },
  {
   "cell_type": "markdown",
   "metadata": {},
   "source": [
    "2. Cread un único gráfico donde juntéis las gráficas de los tipos de ataques en una sola. Debéis:"
   ]
  },
  {
   "cell_type": "markdown",
   "metadata": {},
   "source": [
    "- Poner leyenda a la gráfica"
   ]
  },
  {
   "cell_type": "markdown",
   "metadata": {},
   "source": [
    "- Cada línea debe ir en un color"
   ]
  },
  {
   "cell_type": "markdown",
   "metadata": {},
   "source": [
    "- Ponerle nombre a los ejes y a la gráfica."
   ]
  },
  {
   "cell_type": "markdown",
   "metadata": {},
   "source": [
    "- Poner marcadores a las lineas."
   ]
  },
  {
   "cell_type": "code",
   "execution_count": 80,
   "metadata": {},
   "outputs": [
    {
     "data": {
      "text/plain": [
       "Unprovoked      636\n",
       "Invalid          50\n",
       "Provoked         50\n",
       "Boating          11\n",
       "Sea Disaster      1\n",
       "Name: type, dtype: int64"
      ]
     },
     "execution_count": 80,
     "metadata": {},
     "output_type": "execute_result"
    }
   ],
   "source": [
    "#PREGUNTAR A ANA SI ESTO ESTARIA TAMBIEN BIEN?\n",
    "#attacks_USA_SPAIN=df[(df['country']== 'USA') | (df['country'] == 'SPAIN')] ['type'].value_counts()\n",
    "#attacks_USA_SPAIN.head()"
   ]
  },
  {
   "cell_type": "code",
   "execution_count": 108,
   "metadata": {},
   "outputs": [
    {
     "data": {
      "image/png": "[encoded data removed]",
      "text/plain": [
       "<Figure size 1080x360 with 1 Axes>"
      ]
     },
     "metadata": {
      "needs_background": "light"
     },
     "output_type": "display_data"
    }
   ],
   "source": [
    "fig3, ax=plt.subplots(figsize=(15,5))\n",
    "x= USA_attacks.index\n",
    "y= USA_attacks.values\n",
    "x1= SPAIN_attacks.index\n",
    "y1= SPAIN_attacks.values\n",
    "plt.plot(x,y)\n",
    "plt.plot(x1,y1)\n",
    "plt.title('Ataques tiburones por paises')\n",
    "plt.xlabel('Tipo de ataque')\n",
    "plt.ylabel('Nº ataques')\n",
    "ax.legend(labels=['USA','SPAIN']) #Ponemos nombre a cada gráfica representada en cada línea en la leyenda.\n",
    "plt.savefig('visu2_union_graf_ataques_USA_SPAIN.jpg')\n",
    "plt.show()"
   ]
  },
  {
   "cell_type": "markdown",
   "metadata": {},
   "source": [
    "3. Guardad las figuras creadas en cada caso. Podéis usar el formato que queráis. Guarda todas las fotos en una carpeta llamada Visualizacion-II."
   ]
  },
  {
   "cell_type": "code",
   "execution_count": null,
   "metadata": {},
   "outputs": [],
   "source": []
  }
 ],
 "metadata": {
  "kernelspec": {
   "display_name": "base",
   "language": "python",
   "name": "python3"
  },
  "language_info": {
   "codemirror_mode": {
    "name": "ipython",
    "version": 3
   },
   "file_extension": ".py",
   "mimetype": "text/x-python",
   "name": "python",
   "nbconvert_exporter": "python",
   "pygments_lexer": "ipython3",
   "version": "3.9.7"
  },
  "orig_nbformat": 4,
  "vscode": {
   "interpreter": {
    "hash": "468215beec16e96f99bc366ecab75b1d75db716e353e0417cbdb37be88f0d883"
   }
  }
 },
 "nbformat": 4,
 "nbformat_minor": 2
}
