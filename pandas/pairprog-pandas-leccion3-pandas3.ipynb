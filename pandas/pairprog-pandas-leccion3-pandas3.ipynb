{
 "cells": [
  {
   "attachments": {},
   "cell_type": "markdown",
   "metadata": {},
   "source": [
    "# Ejercicios Pair Programming - Modulo 2 - Sprint 1 \n",
    "## Lección 3 - Pandas III: Métodos Pandas\n",
    "### Judith Mellidez y Sonia Ruiz"
   ]
  },
  {
   "attachments": {},
   "cell_type": "markdown",
   "metadata": {},
   "source": [
    "De aquí en adelante, vamos a trabajar con el mismo dataset. Se trata de un conjunto de datos que contiene información sobre ataques de tiburones en distintas partes del mundo. ¿El problema de los datos? Están terriblemente sucios!!! En las próximas lecciones iremos limpiando este csv y sacaremos conclusiones usando la visualización.\n",
    "\n",
    "### __Tareas a realizar en este pair programming__\n",
    "\n",
    "0. Desgargar el archivo attacks.csv del GitBook, en el apartado PairProgramming Pandas III.\n",
    "1. Cargar el dataset\n",
    "\n",
    "💡 Pista Si hacemos la carga del dataset sin el parámetro encoding nos puede dar error (puede que no os de error, si es así menos problemas!). Aquí tenéis una lista de los encodings disponibles en pandas. Buscad por los encoding de tipo ISO."
   ]
  },
  {
   "cell_type": "code",
   "execution_count": null,
   "metadata": {},
   "outputs": [],
   "source": []
  },
  {
   "attachments": {},
   "cell_type": "markdown",
   "metadata": {},
   "source": [
    "2. Haced una exploración básica del DataFrame:\n",
    "- ¿Cuántas filas y columnas tiene el DataFrame?"
   ]
  },
  {
   "cell_type": "code",
   "execution_count": null,
   "metadata": {},
   "outputs": [],
   "source": []
  },
  {
   "attachments": {},
   "cell_type": "markdown",
   "metadata": {},
   "source": [
    "- Mostrad las primeras cinco filas y las últimas cinco filas del DataFrame.\n",
    "Mostrad 2 filas al azar del DataFrame."
   ]
  },
  {
   "cell_type": "code",
   "execution_count": null,
   "metadata": {},
   "outputs": [],
   "source": []
  },
  {
   "attachments": {},
   "cell_type": "markdown",
   "metadata": {},
   "source": [
    "- ¿Cuál es el nombre de las columnas del DataFrame?"
   ]
  },
  {
   "cell_type": "code",
   "execution_count": null,
   "metadata": {},
   "outputs": [],
   "source": []
  },
  {
   "attachments": {},
   "cell_type": "markdown",
   "metadata": {},
   "source": [
    "- ¿Cuáles son los principales estádisticos del DataFrame? Mostrad por separado las variables categóricas y las variables numéricas."
   ]
  },
  {
   "cell_type": "code",
   "execution_count": null,
   "metadata": {},
   "outputs": [],
   "source": []
  },
  {
   "attachments": {},
   "cell_type": "markdown",
   "metadata": {},
   "source": [
    "- ¿Cuál es el porcentaje de valores nulos en cada columna?"
   ]
  },
  {
   "cell_type": "code",
   "execution_count": null,
   "metadata": {},
   "outputs": [],
   "source": []
  },
  {
   "attachments": {},
   "cell_type": "markdown",
   "metadata": {},
   "source": [
    "- Sacad los valores únicos y su frecuencia de las variables numéricas. Almacenad los resultados en un diccionario. Uno para cada variable."
   ]
  },
  {
   "cell_type": "code",
   "execution_count": null,
   "metadata": {},
   "outputs": [],
   "source": []
  },
  {
   "attachments": {},
   "cell_type": "markdown",
   "metadata": {},
   "source": [
    "- Cambiad el nombre de las columnas para que todas estén en minúsculas y reemplazad los espacios por _."
   ]
  },
  {
   "cell_type": "code",
   "execution_count": null,
   "metadata": {},
   "outputs": [],
   "source": []
  },
  {
   "attachments": {},
   "cell_type": "markdown",
   "metadata": {},
   "source": [
    "- Eliminad las columnas de `Unnamed: 22` y `Unnamed: 23`, `Case Number.1`, `Case Number.2`, `original order`, `Investigator or Source`, `pdf`, `href formula`."
   ]
  },
  {
   "cell_type": "code",
   "execution_count": null,
   "metadata": {},
   "outputs": [],
   "source": []
  },
  {
   "attachments": {},
   "cell_type": "markdown",
   "metadata": {},
   "source": [
    "- Establece la columna Case Number como índice del DataFrame."
   ]
  },
  {
   "cell_type": "code",
   "execution_count": null,
   "metadata": {},
   "outputs": [],
   "source": []
  },
  {
   "attachments": {},
   "cell_type": "markdown",
   "metadata": {},
   "source": [
    "3. Guarda el csv que no tiene esas columnas para seguir usándolo mañana."
   ]
  },
  {
   "cell_type": "code",
   "execution_count": null,
   "metadata": {},
   "outputs": [],
   "source": []
  },
  {
   "attachments": {},
   "cell_type": "markdown",
   "metadata": {},
   "source": [
    "Happy coding 🦈"
   ]
  }
 ],
 "metadata": {
  "kernelspec": {
   "display_name": "Python 3",
   "language": "python",
   "name": "python3"
  },
  "language_info": {
   "name": "python",
   "version": "3.6.9 (default, Nov 25 2022, 14:10:45) \n[GCC 8.4.0]"
  },
  "orig_nbformat": 4,
  "vscode": {
   "interpreter": {
    "hash": "31f2aee4e71d21fbe5cf8b01ff0e069b9275f58929596ceb00d14d90e3e16cd6"
   }
  }
 },
 "nbformat": 4,
 "nbformat_minor": 2
}
