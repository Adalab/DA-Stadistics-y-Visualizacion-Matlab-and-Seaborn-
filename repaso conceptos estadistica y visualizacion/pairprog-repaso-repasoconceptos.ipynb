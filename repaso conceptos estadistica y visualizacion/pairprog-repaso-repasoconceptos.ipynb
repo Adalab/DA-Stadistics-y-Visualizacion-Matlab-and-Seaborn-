{
 "cells": [
  {
   "attachments": {},
   "cell_type": "markdown",
   "metadata": {},
   "source": [
    "# Ejercicios Pair Programming - Modulo 2 - Sprint 1 \n",
    "## Lección 9 - Repaso Conceptos Estadística y Visualizacion\n",
    "### Judith Mellidez y Sonia Ruiz"
   ]
  },
  {
   "attachments": {},
   "cell_type": "markdown",
   "metadata": {},
   "source": [
    "Al igual que en los ejercicios de pair programming de estadística, deberéis elegir un set de datos, puede ser de cualquier tipo. El objetivo de este pair programming es:\n",
    "- Hacer una exploración inicial del dataframe.\n",
    "    - ¿Cuántas filas tiene?\n",
    "    - ¿Cuántas nulos tiene?\n",
    "    - ¿Y duplicados?\n",
    "    - ¿Qué tipo de datos tenemos en el dataframe?\n",
    "    - etc.\n",
    "- Plantead una serie de preguntas como las que fuimos contestando en la clase invertida.\n",
    "- Contestad a las preguntas planteadas usando los principales estadísticos que hemos aprendido y gráficas que mejor se ajusten.\n",
    "💻 Happy coding 💻"
   ]
  }
 ],
 "metadata": {
  "kernelspec": {
   "display_name": "Python 3",
   "language": "python",
   "name": "python3"
  },
  "language_info": {
   "name": "python",
   "version": "3.6.9 (default, Nov 25 2022, 14:10:45) \n[GCC 8.4.0]"
  },
  "orig_nbformat": 4,
  "vscode": {
   "interpreter": {
    "hash": "31f2aee4e71d21fbe5cf8b01ff0e069b9275f58929596ceb00d14d90e3e16cd6"
   }
  }
 },
 "nbformat": 4,
 "nbformat_minor": 2
}
